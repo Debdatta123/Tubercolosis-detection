{
  "nbformat": 4,
  "nbformat_minor": 0,
  "metadata": {
    "colab": {
      "name": "tb_detection.ipynb",
      "provenance": [],
      "collapsed_sections": [],
      "authorship_tag": "ABX9TyOwZTBs9eY9a0qoDtmROayW",
      "include_colab_link": true
    },
    "kernelspec": {
      "name": "python3",
      "display_name": "Python 3"
    }
  },
  "cells": [
    {
      "cell_type": "markdown",
      "metadata": {
        "id": "view-in-github",
        "colab_type": "text"
      },
      "source": [
        "<a href=\"https://colab.research.google.com/github/tejas2008/Tubercolosis-detection/blob/master/tb_detection.ipynb\" target=\"_parent\"><img src=\"https://colab.research.google.com/assets/colab-badge.svg\" alt=\"Open In Colab\"/></a>"
      ]
    },
    {
      "cell_type": "code",
      "metadata": {
        "id": "jKP6RL6m6v2U",
        "outputId": "a149530d-d5bd-46a8-db60-6e1803bce473",
        "colab": {
          "base_uri": "https://localhost:8080/",
          "height": 35
        }
      },
      "source": [
        "from google.colab import drive\n",
        "drive.mount(\"/content/drive\")"
      ],
      "execution_count": null,
      "outputs": [
        {
          "output_type": "stream",
          "text": [
            "Drive already mounted at /content/drive; to attempt to forcibly remount, call drive.mount(\"/content/drive\", force_remount=True).\n"
          ],
          "name": "stdout"
        }
      ]
    },
    {
      "cell_type": "code",
      "metadata": {
        "id": "3EoFjuO_61ky"
      },
      "source": [
        "%cd '/content/drive/My Drive/IA1Dataset'"
      ],
      "execution_count": null,
      "outputs": []
    },
    {
      "cell_type": "code",
      "metadata": {
        "id": "K2NE7E4Z7HAZ",
        "outputId": "bbfb6b7f-aa5f-4fbc-f036-bb0f08c14614",
        "colab": {
          "base_uri": "https://localhost:8080/",
          "height": 35
        }
      },
      "source": [
        "%ls"
      ],
      "execution_count": null,
      "outputs": [
        {
          "output_type": "stream",
          "text": [
            "\u001b[0m\u001b[01;34maffected\u001b[0m/  \u001b[01;34mnormal\u001b[0m/\n"
          ],
          "name": "stdout"
        }
      ]
    },
    {
      "cell_type": "code",
      "metadata": {
        "id": "SyOgdF6yW5Ne"
      },
      "source": [
        "import os\n",
        "import cv2\n",
        "import random\n",
        "import numpy as np\n"
      ],
      "execution_count": null,
      "outputs": []
    },
    {
      "cell_type": "markdown",
      "metadata": {
        "id": "pZGXhdgCXNZ2"
      },
      "source": [
        "Augmentation"
      ]
    },
    {
      "cell_type": "code",
      "metadata": {
        "id": "hM3eUZMJapi5"
      },
      "source": [
        "# Horizontal Shift\n",
        "def horizontal_shift(img_passed):\n",
        "    ratio = 0.7\n",
        "    img = cv2.imread(img_passed)\n",
        "    ratio = random.uniform(-ratio, ratio)\n",
        "    h, w = img.shape[:2]\n",
        "    to_shift = w*ratio\n",
        "    if ratio > 0:\n",
        "        img = img[:, :int(w-to_shift), :]\n",
        "    if ratio < 0:\n",
        "        img = img[:, int(-1*to_shift):, :]\n",
        "    img = cv2.resize(img, (h, w), cv2.INTER_CUBIC)\n",
        "    img = cv2.cvtColor(img, cv2.COLOR_BGR2GRAY)\n",
        "    img = cv2.resize(img,(100,100))\n",
        "    return img\n"
      ],
      "execution_count": null,
      "outputs": []
    },
    {
      "cell_type": "code",
      "metadata": {
        "id": "SeASqeRzbmEn"
      },
      "source": [
        "# Vertical Shift\n",
        "\n",
        "def vertical_shift(img_passed):\n",
        "    ratio = 0.7 \n",
        "    img = cv2.imread(img_passed)\n",
        "    ratio = random.uniform(-ratio, ratio)\n",
        "    h, w = img.shape[:2]\n",
        "    to_shift = h*ratio\n",
        "    if ratio > 0:\n",
        "        img = img[:int(h-to_shift), :,:]\n",
        "    if ratio < 0:\n",
        "        img = img[int(-1*to_shift):, :,:]\n",
        "    img = cv2.resize(img, (h, w), cv2.INTER_CUBIC)\n",
        "    img = cv2.cvtColor(img, cv2.COLOR_BGR2GRAY)\n",
        "    img = cv2.resize(img,(100,100))\n",
        "    return img"
      ],
      "execution_count": null,
      "outputs": []
    },
    {
      "cell_type": "code",
      "metadata": {
        "id": "DtgrEnK9bzUK"
      },
      "source": [
        "# Brightness\n",
        "\n",
        "def brightness(img_passed):\n",
        "    low = 0.5\n",
        "    high = 3\n",
        "    img = cv2.imread(img_passed)\n",
        "    value = random.uniform(low, high)\n",
        "    hsv = cv2.cvtColor(img, cv2.COLOR_BGR2HSV)\n",
        "    hsv = np.array(hsv, dtype = np.float64)\n",
        "    hsv[:,:,1] = hsv[:,:,1]*value\n",
        "    hsv[:,:,1][hsv[:,:,1]>255]  = 255\n",
        "    hsv[:,:,2] = hsv[:,:,2]*value \n",
        "    hsv[:,:,2][hsv[:,:,2]>255]  = 255\n",
        "    hsv = np.array(hsv, dtype = np.uint8)\n",
        "    img = cv2.cvtColor(hsv, cv2.COLOR_HSV2BGR)\n",
        "    img = cv2.cvtColor(img, cv2.COLOR_BGR2GRAY)\n",
        "    img = cv2.resize(img,(100,100))\n",
        "    return img"
      ],
      "execution_count": null,
      "outputs": []
    },
    {
      "cell_type": "code",
      "metadata": {
        "id": "E2MnjCbTcIb2"
      },
      "source": [
        "# Zoom\n",
        "\n",
        "def zoom(img_passed):\n",
        "    value = 0.5\n",
        "    img = cv2.imread(img_passed)\n",
        "    value = random.uniform(value, 1)\n",
        "    h, w = img.shape[:2]\n",
        "    h_taken = int(value*h)\n",
        "    w_taken = int(value*w)\n",
        "    h_start = random.randint(0, h-h_taken)\n",
        "    w_start = random.randint(0, w-w_taken)\n",
        "    img = img[h_start:h_start+h_taken, w_start:w_start+w_taken, :]\n",
        "    img = cv2.resize(img, (h, w), cv2.INTER_CUBIC)\n",
        "    img = cv2.cvtColor(img, cv2.COLOR_BGR2GRAY)\n",
        "    img = cv2.resize(img,(100,100))\n",
        "    return img"
      ],
      "execution_count": null,
      "outputs": []
    },
    {
      "cell_type": "code",
      "metadata": {
        "id": "2I72kCR0cZ1y"
      },
      "source": [
        "# horizontal flip\n",
        "def horizontal_flip(img_passed):\n",
        "  img = cv2.imread(img_passed)\n",
        "  img = cv2.cvtColor(img, cv2.COLOR_BGR2GRAY)\n",
        "  img = cv2.resize(img,(100,100))\n",
        "  return cv2.flip(img, 1)\n"
      ],
      "execution_count": null,
      "outputs": []
    },
    {
      "cell_type": "code",
      "metadata": {
        "id": "NMBB6IdycddR"
      },
      "source": [
        "# vertical flip\n",
        "def vertical_flip(img_passed):\n",
        "    img = cv2.imread(img_passed)\n",
        "    img = cv2.cvtColor(img, cv2.COLOR_BGR2GRAY)\n",
        "    img = cv2.resize(img,(100,100))\n",
        "    return cv2.flip(img, 0)\n",
        "    "
      ],
      "execution_count": null,
      "outputs": []
    },
    {
      "cell_type": "code",
      "metadata": {
        "id": "5NZoSyVPce7X"
      },
      "source": [
        "# rotation\n",
        "def rotation(img_passed):\n",
        "    img = cv2.imread(img_passed)\n",
        "    angle = 30\n",
        "    angle = int(random.uniform(-angle, angle))\n",
        "    h, w = img.shape[:2]\n",
        "    M = cv2.getRotationMatrix2D((int(w/2), int(h/2)), angle, 1)\n",
        "    img = cv2.warpAffine(img, M, (w, h))\n",
        "    img = cv2.cvtColor(img, cv2.COLOR_BGR2GRAY)\n",
        "    img = cv2.resize(img,(100,100))\n",
        "    return img\n"
      ],
      "execution_count": null,
      "outputs": []
    },
    {
      "cell_type": "code",
      "metadata": {
        "id": "RlfbcA0Rhdph",
        "outputId": "eff2ae78-9b68-4446-b57b-b80ef0da71e9",
        "colab": {
          "base_uri": "https://localhost:8080/",
          "height": 35
        }
      },
      "source": [
        "from google.colab.patches import cv2_imshow\n",
        "# i = vertical_flip('/content/drive/My Drive/IA1Dataset/affected/CHNCXR_0327_1.png')\n",
        "# print(i)\n",
        "# cv2_imshow(i)\n",
        "# print(i.shape)\n",
        "category = ['affected','normal']\n",
        "data = []\n",
        "for c in category:\n",
        "  path = '/content/drive/My Drive/IA1Dataset/'+c\n",
        "  target = category.index(c)\n",
        "  for img in os.listdir(path):\n",
        "      try:\n",
        "        img_hshifted = horizontal_shift(os.path.join(path,img))\n",
        "        data.append([img_hshifted,target])\n",
        "      except Exception as e:\n",
        "        print(e)\n",
        "print(len(data))\n"
      ],
      "execution_count": null,
      "outputs": [
        {
          "output_type": "stream",
          "text": [
            "449\n"
          ],
          "name": "stdout"
        }
      ]
    },
    {
      "cell_type": "code",
      "metadata": {
        "id": "he5v-UkPGjTO",
        "outputId": "eca3913b-54a1-4686-a9d3-15bba0941656",
        "colab": {
          "base_uri": "https://localhost:8080/",
          "height": 35
        }
      },
      "source": [
        "category = ['affected','normal']\n",
        "for c in category:\n",
        "  path = '/content/drive/My Drive/IA1Dataset/'+c\n",
        "  target = category.index(c)\n",
        "  for img in os.listdir(path):\n",
        "      try:\n",
        "        img_vshifted = vertical_shift(os.path.join(path,img))\n",
        "        data.append([img_vshifted,target])\n",
        "      except Exception as e:\n",
        "        print(e)\n",
        "print(len(data))\n"
      ],
      "execution_count": null,
      "outputs": [
        {
          "output_type": "stream",
          "text": [
            "898\n"
          ],
          "name": "stdout"
        }
      ]
    },
    {
      "cell_type": "code",
      "metadata": {
        "id": "yvhA5crKJb7E",
        "outputId": "8ce94274-8c59-485d-aa30-1011f8eafc69",
        "colab": {
          "base_uri": "https://localhost:8080/",
          "height": 35
        }
      },
      "source": [
        "category = ['affected','normal']\n",
        "for c in category:\n",
        "  path = '/content/drive/My Drive/IA1Dataset/'+c\n",
        "  target = category.index(c)\n",
        "  for img in os.listdir(path):\n",
        "      try:\n",
        "        img_bright = brightness(os.path.join(path,img))\n",
        "        data.append([img_bright,target])\n",
        "      except Exception as e:\n",
        "        print(e)\n",
        "print(len(data))"
      ],
      "execution_count": null,
      "outputs": [
        {
          "output_type": "stream",
          "text": [
            "1347\n"
          ],
          "name": "stdout"
        }
      ]
    },
    {
      "cell_type": "code",
      "metadata": {
        "id": "JVyJin8EKmDJ",
        "outputId": "8d1045ff-7b6b-49d3-df53-886fb5f33675",
        "colab": {
          "base_uri": "https://localhost:8080/",
          "height": 35
        }
      },
      "source": [
        "category = ['affected','normal']\n",
        "for c in category:\n",
        "  path = '/content/drive/My Drive/IA1Dataset/'+c\n",
        "  target = category.index(c)\n",
        "  for img in os.listdir(path):\n",
        "      try:\n",
        "        img_zoomed = zoom(os.path.join(path,img))\n",
        "        data.append([img_zoomed,target])\n",
        "      except Exception as e:\n",
        "        print(e)\n",
        "print(len(data))"
      ],
      "execution_count": null,
      "outputs": [
        {
          "output_type": "stream",
          "text": [
            "1796\n"
          ],
          "name": "stdout"
        }
      ]
    },
    {
      "cell_type": "code",
      "metadata": {
        "id": "psDrz1LmLQ3T",
        "outputId": "383d431f-07c4-4e5c-c63c-b8a3599762c1",
        "colab": {
          "base_uri": "https://localhost:8080/",
          "height": 35
        }
      },
      "source": [
        "category = ['affected','normal']\n",
        "for c in category:\n",
        "  path = '/content/drive/My Drive/IA1Dataset/'+c\n",
        "  target = category.index(c)\n",
        "  for img in os.listdir(path):\n",
        "      try:\n",
        "        img_hflipped = horizontal_flip(os.path.join(path,img))\n",
        "        data.append([img_hflipped,target])\n",
        "      except Exception as e:\n",
        "        print(e)\n",
        "print(len(data))"
      ],
      "execution_count": null,
      "outputs": [
        {
          "output_type": "stream",
          "text": [
            "2245\n"
          ],
          "name": "stdout"
        }
      ]
    },
    {
      "cell_type": "code",
      "metadata": {
        "id": "3es6o5w9L_NQ",
        "outputId": "44241cb9-b9a4-460e-8537-a62ba235d1f9",
        "colab": {
          "base_uri": "https://localhost:8080/",
          "height": 35
        }
      },
      "source": [
        "category = ['affected','normal']\n",
        "for c in category:\n",
        "  path = '/content/drive/My Drive/IA1Dataset/'+c\n",
        "  target = category.index(c)\n",
        "  for img in os.listdir(path):\n",
        "      try:\n",
        "        img_vflipped = vertical_flip(os.path.join(path,img))\n",
        "        data.append([img_vflipped,target])\n",
        "      except Exception as e:\n",
        "        print(e)\n",
        "print(len(data))"
      ],
      "execution_count": null,
      "outputs": [
        {
          "output_type": "stream",
          "text": [
            "2694\n"
          ],
          "name": "stdout"
        }
      ]
    },
    {
      "cell_type": "code",
      "metadata": {
        "id": "uJ5rBbjFMZpG",
        "outputId": "7ade1d5c-f913-4404-a8b0-58fe3ba9e0f4",
        "colab": {
          "base_uri": "https://localhost:8080/",
          "height": 35
        }
      },
      "source": [
        "category = ['affected','normal']\n",
        "for c in category:\n",
        "  path = '/content/drive/My Drive/IA1Dataset/'+c\n",
        "  target = category.index(c)\n",
        "  for img in os.listdir(path):\n",
        "      try:\n",
        "        img_rotated = rotation(os.path.join(path,img))\n",
        "        data.append([img_rotated,target])\n",
        "      except Exception as e:\n",
        "        print(e)\n",
        "print(len(data))"
      ],
      "execution_count": null,
      "outputs": [
        {
          "output_type": "stream",
          "text": [
            "3143\n"
          ],
          "name": "stdout"
        }
      ]
    },
    {
      "cell_type": "code",
      "metadata": {
        "id": "Ay8Y1GoK7Jia",
        "outputId": "2bcaee10-b8d7-4523-9742-3e07190e1a08",
        "colab": {
          "base_uri": "https://localhost:8080/",
          "height": 35
        }
      },
      "source": [
        "\n",
        "category = ['affected','normal']\n",
        "for c in category:\n",
        "    path = '/content/drive/My Drive/IA1Dataset/'+c\n",
        "    target = category.index(c)\n",
        "    for img in os.listdir(path):\n",
        "        try:\n",
        "            img_array1 = cv2.imread(os.path.join(path,img),cv2.IMREAD_GRAYSCALE)\n",
        "            new_img_array1 = cv2.resize(img_array1,(100,100))\n",
        "            data.append([new_img_array1,target])\n",
        "        except Exception as e:\n",
        "          print(e)\n",
        "          break\n",
        "print(len(data))"
      ],
      "execution_count": null,
      "outputs": [
        {
          "output_type": "stream",
          "text": [
            "3592\n"
          ],
          "name": "stdout"
        }
      ]
    },
    {
      "cell_type": "code",
      "metadata": {
        "id": "l8sfnf_fO0kC",
        "outputId": "0a28ea92-d56c-4509-8589-ea10177d6c06",
        "colab": {
          "base_uri": "https://localhost:8080/",
          "height": 117
        }
      },
      "source": [
        "cv2_imshow(data[2209][0])"
      ],
      "execution_count": null,
      "outputs": [
        {
          "output_type": "display_data",
          "data": {
            "image/png": "[encoded data removed]",
            "text/plain": [
              "<PIL.Image.Image image mode=L size=100x100 at 0x7F5F591D04E0>"
            ]
          },
          "metadata": {
            "tags": []
          }
        }
      ]
    },
    {
      "cell_type": "code",
      "metadata": {
        "id": "DAV7WVZ3R1t8"
      },
      "source": [
        "from sklearn.model_selection import train_test_split\n",
        "random.shuffle(data)\n",
        "x=[]\n",
        "y=[]\n",
        "for features,labels in data:\n",
        "    x.append(features)\n",
        "    y.append(labels)   \n",
        "x_train,x_test,y_train,y_test=train_test_split(x,y,test_size=0.30)"
      ],
      "execution_count": null,
      "outputs": []
    },
    {
      "cell_type": "code",
      "metadata": {
        "id": "AHeWXnd0P7a6",
        "outputId": "d5712e3c-4722-41c8-9a3f-ce9ba3ad1e64",
        "colab": {
          "base_uri": "https://localhost:8080/",
          "height": 52
        }
      },
      "source": [
        "import tensorflow as tf\n",
        "from tensorflow.keras.layers import Dense, Flatten ,Dropout, Conv2D, MaxPooling2D, BatchNormalization\n",
        "from tensorflow.keras.models import Sequential\n",
        "x_train=np.array(x_train).reshape(-1,100,100,1)\n",
        "x_train=tf.keras.utils.normalize(x_train,axis=1)\n",
        "y_train=np.array(y_train)\n",
        "# y_train = np.asarray(y_train).astype('float32').reshape((-1,1))\n",
        "# y_test = np.asarray(y_test).astype('float32').reshape((-1,1))\n",
        "print(x_train.shape)\n",
        "print(y_train.shape)"
      ],
      "execution_count": null,
      "outputs": [
        {
          "output_type": "stream",
          "text": [
            "(2514, 100, 100, 1)\n",
            "(2514,)\n"
          ],
          "name": "stdout"
        }
      ]
    },
    {
      "cell_type": "code",
      "metadata": {
        "id": "io_CUl5fRwid",
        "outputId": "34592c38-e0aa-4f82-d379-3e52a240575a",
        "colab": {
          "base_uri": "https://localhost:8080/",
          "height": 641
        }
      },
      "source": [
        "model = Sequential()\n",
        "model.add(Conv2D(32, (3, 3), activation='relu', input_shape=x_train.shape[1:]))\n",
        "model.add(MaxPooling2D(pool_size=(2, 2)))\n",
        "\n",
        "model.add(Conv2D(32, (3, 3), activation='relu'))\n",
        "model.add(MaxPooling2D(pool_size=(2, 2)))\n",
        "\n",
        "model.add(Conv2D(64, (3, 3), activation='relu'))\n",
        "model.add(MaxPooling2D(pool_size=(2, 2)))\n",
        "\n",
        "model.add(Flatten())  # this converts our 3D feature maps to 1D feature vectors\n",
        "model.add(Dense(64, activation='relu'))\n",
        "model.add(Dropout(0.5))\n",
        "model.add(Dense(1, activation='sigmoid'))\n",
        "model.summary()\n",
        "\n",
        "model.compile(loss='binary_crossentropy',\n",
        "              optimizer='adam',\n",
        "              metrics=['accuracy',tf.keras.metrics.Recall(),tf.keras.metrics.Precision()])\n",
        "model.fit(x_train,y_train,epochs=3)\n",
        "results = model.evaluate(np.array(x_test).reshape(-1,100,100,1), np.array(y_test))\n",
        "print(\"test loss, test acc:\", results)"
      ],
      "execution_count": null,
      "outputs": [
        {
          "output_type": "stream",
          "text": [
            "Model: \"sequential_8\"\n",
            "_________________________________________________________________\n",
            "Layer (type)                 Output Shape              Param #   \n",
            "=================================================================\n",
            "conv2d_26 (Conv2D)           (None, 98, 98, 32)        320       \n",
            "_________________________________________________________________\n",
            "max_pooling2d_26 (MaxPooling (None, 49, 49, 32)        0         \n",
            "_________________________________________________________________\n",
            "conv2d_27 (Conv2D)           (None, 47, 47, 32)        9248      \n",
            "_________________________________________________________________\n",
            "max_pooling2d_27 (MaxPooling (None, 23, 23, 32)        0         \n",
            "_________________________________________________________________\n",
            "conv2d_28 (Conv2D)           (None, 21, 21, 64)        18496     \n",
            "_________________________________________________________________\n",
            "max_pooling2d_28 (MaxPooling (None, 10, 10, 64)        0         \n",
            "_________________________________________________________________\n",
            "flatten_8 (Flatten)          (None, 6400)              0         \n",
            "_________________________________________________________________\n",
            "dense_18 (Dense)             (None, 64)                409664    \n",
            "_________________________________________________________________\n",
            "dropout_10 (Dropout)         (None, 64)                0         \n",
            "_________________________________________________________________\n",
            "dense_19 (Dense)             (None, 1)                 65        \n",
            "=================================================================\n",
            "Total params: 437,793\n",
            "Trainable params: 437,793\n",
            "Non-trainable params: 0\n",
            "_________________________________________________________________\n",
            "Epoch 1/3\n",
            "79/79 [==============================] - 25s 313ms/step - loss: 0.3430 - accuracy: 0.9006 - recall_3: 0.9978 - precision_2: 0.9022\n",
            "Epoch 2/3\n",
            "79/79 [==============================] - 25s 316ms/step - loss: 0.3253 - accuracy: 0.9010 - recall_3: 1.0000 - precision_2: 0.9010\n",
            "Epoch 3/3\n",
            "79/79 [==============================] - 25s 314ms/step - loss: 0.3024 - accuracy: 0.9010 - recall_3: 1.0000 - precision_2: 0.9010\n",
            "34/34 [==============================] - 3s 86ms/step - loss: 92.4575 - accuracy: 0.9119 - recall_3: 1.0000 - precision_2: 0.9119\n",
            "test loss, test acc: [92.45751953125, 0.9118738174438477, 1.0, 0.9118738174438477]\n"
          ],
          "name": "stdout"
        }
      ]
    },
    {
      "cell_type": "code",
      "metadata": {
        "id": "4vGRi0oTWxUH"
      },
      "source": [
        "predictions = model.predict(np.array(x_test).reshape(-1,100,100,1))\n",
        "tf.math.confusion_matrix( np.array(y_test),predictions)"
      ],
      "execution_count": null,
      "outputs": []
    },
    {
      "cell_type": "code",
      "metadata": {
        "id": "Ionv3JWcQgQG",
        "outputId": "8bdb8d43-0fae-41f6-897b-862c167af76f",
        "colab": {
          "base_uri": "https://localhost:8080/",
          "height": 780
        }
      },
      "source": [
        "model = Sequential()\n",
        "model.add(Conv2D(64, (3, 3), activation='relu', input_shape=x_train.shape[1:]))\n",
        "model.add(MaxPooling2D(pool_size=(2, 2)))\n",
        "\n",
        "model.add(Conv2D(64, (3, 3), activation='relu'))\n",
        "model.add(MaxPooling2D(pool_size=(2, 2)))\n",
        "\n",
        "model.add(Conv2D(32, (3, 3), activation='relu'))\n",
        "model.add(MaxPooling2D(pool_size=(2, 2)))\n",
        "\n",
        "model.add(Conv2D(32, (3, 3), activation='relu'))\n",
        "model.add(MaxPooling2D(pool_size=(2, 2)))\n",
        "\n",
        "model.add(Flatten())  # this converts our 3D feature maps to 1D feature vectors\n",
        "model.add(Dense(512, activation='relu'))\n",
        "model.add(Dropout(0.5))\n",
        "model.add(Dense(64, activation='relu'))\n",
        "model.add(Dropout(0.5))\n",
        "model.add(Dense(1, activation='sigmoid'))\n",
        "model.summary()\n",
        "\n",
        "model.compile(loss='binary_crossentropy',\n",
        "              optimizer='adam',\n",
        "              metrics=['accuracy'])\n",
        "model.fit(x_train,y_train,epochs=3)\n",
        "results = model.evaluate(np.array(x_test).reshape(-1,100,100,1), np.array(y_test))\n",
        "print(\"test loss, test acc:\", results)"
      ],
      "execution_count": null,
      "outputs": [
        {
          "output_type": "stream",
          "text": [
            "Model: \"sequential_3\"\n",
            "_________________________________________________________________\n",
            "Layer (type)                 Output Shape              Param #   \n",
            "=================================================================\n",
            "conv2d_10 (Conv2D)           (None, 98, 98, 64)        640       \n",
            "_________________________________________________________________\n",
            "max_pooling2d_10 (MaxPooling (None, 49, 49, 64)        0         \n",
            "_________________________________________________________________\n",
            "conv2d_11 (Conv2D)           (None, 47, 47, 64)        36928     \n",
            "_________________________________________________________________\n",
            "max_pooling2d_11 (MaxPooling (None, 23, 23, 64)        0         \n",
            "_________________________________________________________________\n",
            "conv2d_12 (Conv2D)           (None, 21, 21, 32)        18464     \n",
            "_________________________________________________________________\n",
            "max_pooling2d_12 (MaxPooling (None, 10, 10, 32)        0         \n",
            "_________________________________________________________________\n",
            "conv2d_13 (Conv2D)           (None, 8, 8, 32)          9248      \n",
            "_________________________________________________________________\n",
            "max_pooling2d_13 (MaxPooling (None, 4, 4, 32)          0         \n",
            "_________________________________________________________________\n",
            "flatten_3 (Flatten)          (None, 512)               0         \n",
            "_________________________________________________________________\n",
            "dense_7 (Dense)              (None, 512)               262656    \n",
            "_________________________________________________________________\n",
            "dropout_4 (Dropout)          (None, 512)               0         \n",
            "_________________________________________________________________\n",
            "dense_8 (Dense)              (None, 64)                32832     \n",
            "_________________________________________________________________\n",
            "dropout_5 (Dropout)          (None, 64)                0         \n",
            "_________________________________________________________________\n",
            "dense_9 (Dense)              (None, 1)                 65        \n",
            "=================================================================\n",
            "Total params: 360,833\n",
            "Trainable params: 360,833\n",
            "Non-trainable params: 0\n",
            "_________________________________________________________________\n",
            "Epoch 1/3\n",
            "79/79 [==============================] - 52s 655ms/step - loss: 0.3586 - accuracy: 0.8946\n",
            "Epoch 2/3\n",
            "79/79 [==============================] - 51s 651ms/step - loss: 0.3166 - accuracy: 0.9010\n",
            "Epoch 3/3\n",
            "79/79 [==============================] - 53s 674ms/step - loss: 0.3157 - accuracy: 0.9010\n",
            "34/34 [==============================] - 6s 163ms/step - loss: 47.7656 - accuracy: 0.9119\n",
            "test loss, test acc: [47.7656135559082, 0.9118738174438477]\n"
          ],
          "name": "stdout"
        }
      ]
    },
    {
      "cell_type": "markdown",
      "metadata": {
        "id": "2OdIOGpaYxHr"
      },
      "source": [
        "Without Augmentation"
      ]
    },
    {
      "cell_type": "code",
      "metadata": {
        "id": "HedWjRR1OEWU",
        "outputId": "8e70d748-b2aa-43a6-919c-4cf63b94c5b3",
        "colab": {
          "base_uri": "https://localhost:8080/",
          "height": 35
        }
      },
      "source": [
        "l = []\n",
        "category = ['affected','normal']\n",
        "for c in category:\n",
        "    path = '/content/drive/My Drive/IA1Dataset/'+c\n",
        "    target = category.index(c)\n",
        "    for img in os.listdir(path):\n",
        "        try:\n",
        "            img_array1 = cv2.imread(os.path.join(path,img),cv2.IMREAD_GRAYSCALE)\n",
        "            new_img_array1 = cv2.resize(img_array1,(100,100))\n",
        "            l.append([new_img_array1,target])\n",
        "        except Exception as e:\n",
        "          print(e)\n",
        "          break\n",
        "print(len(l))"
      ],
      "execution_count": null,
      "outputs": [
        {
          "output_type": "stream",
          "text": [
            "449\n"
          ],
          "name": "stdout"
        }
      ]
    },
    {
      "cell_type": "code",
      "metadata": {
        "id": "wyIZQgxQY5ut"
      },
      "source": [
        "from sklearn.model_selection import train_test_split\n",
        "random.shuffle(l)\n",
        "x=[]\n",
        "y=[]\n",
        "for features,labels in l:\n",
        "    x.append(features)\n",
        "    y.append(labels)   \n",
        "x_train,x_test,y_train,y_test=train_test_split(x,y,test_size=0.30)"
      ],
      "execution_count": null,
      "outputs": []
    },
    {
      "cell_type": "code",
      "metadata": {
        "id": "Kcpy76GDY9sH",
        "outputId": "6d0b9efd-fec5-45b5-dcae-02b4e82df59f",
        "colab": {
          "base_uri": "https://localhost:8080/",
          "height": 52
        }
      },
      "source": [
        "import tensorflow as tf\n",
        "from tensorflow.keras.layers import Dense, Flatten ,Dropout, Conv2D, MaxPooling2D, BatchNormalization\n",
        "from tensorflow.keras.models import Sequential\n",
        "x_train=np.array(x_train).reshape(-1,100,100,1)\n",
        "x_train=tf.keras.utils.normalize(x_train,axis=1)\n",
        "y_train=np.array(y_train)\n",
        "# y_train = np.asarray(y_train).astype('float32').reshape((-1,1))\n",
        "# y_test = np.asarray(y_test).astype('float32').reshape((-1,1))\n",
        "print(x_train.shape)\n",
        "print(y_train.shape)"
      ],
      "execution_count": null,
      "outputs": [
        {
          "output_type": "stream",
          "text": [
            "(314, 100, 100, 1)\n",
            "(314,)\n"
          ],
          "name": "stdout"
        }
      ]
    },
    {
      "cell_type": "code",
      "metadata": {
        "id": "Mu1cbFLGZCnn",
        "outputId": "4de9a14c-8fd0-42ba-82c4-e755b258237a",
        "colab": {
          "base_uri": "https://localhost:8080/",
          "height": 641
        }
      },
      "source": [
        "model = Sequential()\n",
        "model.add(Conv2D(32, (3, 3), activation='relu', input_shape=x_train.shape[1:]))\n",
        "model.add(MaxPooling2D(pool_size=(2, 2)))\n",
        "\n",
        "model.add(Conv2D(32, (3, 3), activation='relu'))\n",
        "model.add(MaxPooling2D(pool_size=(2, 2)))\n",
        "\n",
        "model.add(Conv2D(64, (3, 3), activation='relu'))\n",
        "model.add(MaxPooling2D(pool_size=(2, 2)))\n",
        "\n",
        "model.add(Flatten())  # this converts our 3D feature maps to 1D feature vectors\n",
        "model.add(Dense(64, activation='relu'))\n",
        "model.add(Dropout(0.5))\n",
        "model.add(Dense(1, activation='sigmoid'))\n",
        "model.summary()\n",
        "\n",
        "model.compile(loss='binary_crossentropy',\n",
        "              optimizer='adam',\n",
        "              metrics=['accuracy',tf.keras.metrics.Recall(),tf.keras.metrics.Precision()])\n",
        "model.fit(x_train,y_train,epochs=3)\n",
        "results = model.evaluate(np.array(x_test).reshape(-1,100,100,1), np.array(y_test))\n",
        "print(\"test loss, test acc:\", results)"
      ],
      "execution_count": null,
      "outputs": [
        {
          "output_type": "stream",
          "text": [
            "Model: \"sequential_9\"\n",
            "_________________________________________________________________\n",
            "Layer (type)                 Output Shape              Param #   \n",
            "=================================================================\n",
            "conv2d_29 (Conv2D)           (None, 98, 98, 32)        320       \n",
            "_________________________________________________________________\n",
            "max_pooling2d_29 (MaxPooling (None, 49, 49, 32)        0         \n",
            "_________________________________________________________________\n",
            "conv2d_30 (Conv2D)           (None, 47, 47, 32)        9248      \n",
            "_________________________________________________________________\n",
            "max_pooling2d_30 (MaxPooling (None, 23, 23, 32)        0         \n",
            "_________________________________________________________________\n",
            "conv2d_31 (Conv2D)           (None, 21, 21, 64)        18496     \n",
            "_________________________________________________________________\n",
            "max_pooling2d_31 (MaxPooling (None, 10, 10, 64)        0         \n",
            "_________________________________________________________________\n",
            "flatten_9 (Flatten)          (None, 6400)              0         \n",
            "_________________________________________________________________\n",
            "dense_20 (Dense)             (None, 64)                409664    \n",
            "_________________________________________________________________\n",
            "dropout_11 (Dropout)         (None, 64)                0         \n",
            "_________________________________________________________________\n",
            "dense_21 (Dense)             (None, 1)                 65        \n",
            "=================================================================\n",
            "Total params: 437,793\n",
            "Trainable params: 437,793\n",
            "Non-trainable params: 0\n",
            "_________________________________________________________________\n",
            "Epoch 1/3\n",
            "10/10 [==============================] - 3s 280ms/step - loss: 0.4162 - accuracy: 0.8503 - recall_4: 0.9193 - precision_3: 0.9161\n",
            "Epoch 2/3\n",
            "10/10 [==============================] - 3s 329ms/step - loss: 0.3697 - accuracy: 0.9076 - recall_4: 1.0000 - precision_3: 0.9076\n",
            "Epoch 3/3\n",
            "10/10 [==============================] - 4s 387ms/step - loss: 0.3178 - accuracy: 0.9076 - recall_4: 1.0000 - precision_3: 0.9076\n",
            "5/5 [==============================] - 0s 58ms/step - loss: 394.0106 - accuracy: 0.8963 - recall_4: 1.0000 - precision_3: 0.8963\n",
            "test loss, test acc: [394.0106201171875, 0.8962963223457336, 1.0, 0.8962963223457336]\n"
          ],
          "name": "stdout"
        }
      ]
    },
    {
      "cell_type": "code",
      "metadata": {
        "id": "TGS3o6PBZDeG"
      },
      "source": [
        "predictions = model.predict(np.array(x_test).reshape(-1,100,100,1))\n",
        "print(predictions[:10])\n",
        "tf.math.confusion_matrix( np.array(y_test),predictions)"
      ],
      "execution_count": null,
      "outputs": []
    },
    {
      "cell_type": "markdown",
      "metadata": {
        "id": "X15UezDbaaeP"
      },
      "source": [
        "Augmenting only positive TB x-rays\n"
      ]
    },
    {
      "cell_type": "code",
      "metadata": {
        "id": "FHLHX4LoZdUj"
      },
      "source": [
        "from google.colab.patches import cv2_imshow\n",
        "# i = vertical_flip('/content/drive/My Drive/IA1Dataset/affected/CHNCXR_0327_1.png')\n",
        "# print(i)\n",
        "# cv2_imshow(i)\n",
        "# print(i.shape)\n",
        "# category = ['affected','normal']\n",
        "a = []\n",
        "for c in category:\n",
        "  path = '/content/drive/My Drive/IA1Dataset/affected'\n",
        "  target = 0\n",
        "  for img in os.listdir(path):\n",
        "      try:\n",
        "        img_hshifted = horizontal_shift(os.path.join(path,img))\n",
        "        a.append([img_hshifted,target])\n",
        "        img_vshifted = vertical_shift(os.path.join(path,img))\n",
        "        a.append([img_vshifted,target])\n",
        "        img_hflipped = horizontal_flip(os.path.join(path,img))\n",
        "        a.append([img_hflipped,target])\n",
        "        img_vflipped  = vertical_flip(os.path.join(path,img))\n",
        "        a.append([img_vflipped ,target])\n",
        "        img_bright = brightness(os.path.join(path,img))\n",
        "        a.append([img_bright,target])\n",
        "        img_zoomed = zoom(os.path.join(path,img))\n",
        "        a.append([img_zoomed,target])\n",
        "        img_rotated = rotation(os.path.join(path,img))\n",
        "        a.append([img_rotated,target])\n",
        "      except Exception as e:\n",
        "        print(e)\n",
        "        break\n"
      ],
      "execution_count": null,
      "outputs": []
    },
    {
      "cell_type": "code",
      "metadata": {
        "id": "aQUjL5cHc2Bl",
        "outputId": "838ee903-0c1f-4375-9eea-8eda6ae9d9d3",
        "colab": {
          "base_uri": "https://localhost:8080/",
          "height": 35
        }
      },
      "source": [
        "len(a)"
      ],
      "execution_count": null,
      "outputs": [
        {
          "output_type": "execute_result",
          "data": {
            "text/plain": [
              "602"
            ]
          },
          "metadata": {
            "tags": []
          },
          "execution_count": 188
        }
      ]
    },
    {
      "cell_type": "code",
      "metadata": {
        "id": "osbKnh7FdX_C",
        "outputId": "e66bf7e0-9b04-4d29-98ec-5b9e4e6ab933",
        "colab": {
          "base_uri": "https://localhost:8080/",
          "height": 35
        }
      },
      "source": [
        "category = ['affected','normal']\n",
        "for c in category:\n",
        "    path = '/content/drive/My Drive/IA1Dataset/'+c\n",
        "    target = category.index(c)\n",
        "    for img in os.listdir(path):\n",
        "        try:\n",
        "            img_array3 = cv2.imread(os.path.join(path,img),cv2.IMREAD_GRAYSCALE)\n",
        "            new_img_array3 = cv2.resize(img_array3,(100,100))\n",
        "            a.append([new_img_array3,target])\n",
        "        except Exception as e:\n",
        "          print(e)\n",
        "          break\n",
        "print(len(a))"
      ],
      "execution_count": null,
      "outputs": [
        {
          "output_type": "stream",
          "text": [
            "1051\n"
          ],
          "name": "stdout"
        }
      ]
    },
    {
      "cell_type": "code",
      "metadata": {
        "id": "8LF0WI7temr9"
      },
      "source": [
        "from sklearn.model_selection import train_test_split\n",
        "random.shuffle(a)\n",
        "x=[]\n",
        "y=[]\n",
        "for features,labels in a:\n",
        "    x.append(features)\n",
        "    y.append(labels)   \n",
        "x_train,x_test,y_train,y_test=train_test_split(x,y,test_size=0.30)"
      ],
      "execution_count": null,
      "outputs": []
    },
    {
      "cell_type": "code",
      "metadata": {
        "id": "1R9_P_PXepya",
        "outputId": "596b2295-daca-44fa-a86b-3d50c09029ae",
        "colab": {
          "base_uri": "https://localhost:8080/",
          "height": 52
        }
      },
      "source": [
        "import tensorflow as tf\n",
        "from tensorflow.keras.layers import Dense, Flatten ,Dropout, Conv2D, MaxPooling2D, BatchNormalization\n",
        "from tensorflow.keras.models import Sequential\n",
        "x_train=np.array(x_train).reshape(-1,100,100,1)\n",
        "x_train=tf.keras.utils.normalize(x_train,axis=1)\n",
        "y_train=np.array(y_train)\n",
        "# y_train = np.asarray(y_train).astype('float32').reshape((-1,1))\n",
        "# y_test = np.asarray(y_test).astype('float32').reshape((-1,1))\n",
        "print(x_train.shape)\n",
        "print(y_train.shape)"
      ],
      "execution_count": null,
      "outputs": [
        {
          "output_type": "stream",
          "text": [
            "(735, 100, 100, 1)\n",
            "(735,)\n"
          ],
          "name": "stdout"
        }
      ]
    },
    {
      "cell_type": "code",
      "metadata": {
        "id": "S_grVEryetNw",
        "outputId": "632e7ad6-80b2-4dca-c0bd-27d6a44caba1",
        "colab": {
          "base_uri": "https://localhost:8080/",
          "height": 1000
        }
      },
      "source": [
        "model = Sequential()\n",
        "model.add(Conv2D(32, (3, 3), activation='relu', input_shape=x_train.shape[1:]))\n",
        "model.add(MaxPooling2D(pool_size=(2, 2)))\n",
        "\n",
        "model.add(Conv2D(32, (3, 3), activation='relu'))\n",
        "model.add(MaxPooling2D(pool_size=(2, 2)))\n",
        "\n",
        "model.add(Conv2D(64, (3, 3), activation='relu'))\n",
        "model.add(MaxPooling2D(pool_size=(2, 2)))\n",
        "\n",
        "model.add(Flatten())  # this converts our 3D feature maps to 1D feature vectors\n",
        "model.add(Dense(64, activation='relu'))\n",
        "model.add(Dropout(0.5))\n",
        "model.add(Dense(1, activation='sigmoid'))\n",
        "model.summary()\n",
        "\n",
        "model.compile(loss='binary_crossentropy',\n",
        "              optimizer='adam',\n",
        "              metrics=['accuracy',tf.keras.metrics.Recall(),tf.keras.metrics.Precision()])\n",
        "model.fit(x_train,y_train,epochs=25)\n",
        "results = model.evaluate(np.array(x_test).reshape(-1,100,100,1), np.array(y_test))\n",
        "print(\"test loss, test acc:\", results)"
      ],
      "execution_count": null,
      "outputs": [
        {
          "output_type": "stream",
          "text": [
            "Model: \"sequential_11\"\n",
            "_________________________________________________________________\n",
            "Layer (type)                 Output Shape              Param #   \n",
            "=================================================================\n",
            "conv2d_35 (Conv2D)           (None, 98, 98, 32)        320       \n",
            "_________________________________________________________________\n",
            "max_pooling2d_35 (MaxPooling (None, 49, 49, 32)        0         \n",
            "_________________________________________________________________\n",
            "conv2d_36 (Conv2D)           (None, 47, 47, 32)        9248      \n",
            "_________________________________________________________________\n",
            "max_pooling2d_36 (MaxPooling (None, 23, 23, 32)        0         \n",
            "_________________________________________________________________\n",
            "conv2d_37 (Conv2D)           (None, 21, 21, 64)        18496     \n",
            "_________________________________________________________________\n",
            "max_pooling2d_37 (MaxPooling (None, 10, 10, 64)        0         \n",
            "_________________________________________________________________\n",
            "flatten_11 (Flatten)         (None, 6400)              0         \n",
            "_________________________________________________________________\n",
            "dense_24 (Dense)             (None, 64)                409664    \n",
            "_________________________________________________________________\n",
            "dropout_13 (Dropout)         (None, 64)                0         \n",
            "_________________________________________________________________\n",
            "dense_25 (Dense)             (None, 1)                 65        \n",
            "=================================================================\n",
            "Total params: 437,793\n",
            "Trainable params: 437,793\n",
            "Non-trainable params: 0\n",
            "_________________________________________________________________\n",
            "Epoch 1/25\n",
            "23/23 [==============================] - 7s 303ms/step - loss: 0.6704 - accuracy: 0.6163 - recall_6: 0.0000e+00 - precision_5: 0.0000e+00\n",
            "Epoch 2/25\n",
            "23/23 [==============================] - 7s 303ms/step - loss: 0.6389 - accuracy: 0.6340 - recall_6: 0.0361 - precision_5: 0.8333\n",
            "Epoch 3/25\n",
            "23/23 [==============================] - 9s 380ms/step - loss: 0.5497 - accuracy: 0.7197 - recall_6: 0.4079 - precision_5: 0.7290\n",
            "Epoch 4/25\n",
            "23/23 [==============================] - 7s 310ms/step - loss: 0.4583 - accuracy: 0.7823 - recall_6: 0.6931 - precision_5: 0.7191\n",
            "Epoch 5/25\n",
            "23/23 [==============================] - 7s 310ms/step - loss: 0.3949 - accuracy: 0.8068 - recall_6: 0.7148 - precision_5: 0.7586\n",
            "Epoch 6/25\n",
            "23/23 [==============================] - 7s 313ms/step - loss: 0.3622 - accuracy: 0.8299 - recall_6: 0.7473 - precision_5: 0.7901\n",
            "Epoch 7/25\n",
            "23/23 [==============================] - 7s 309ms/step - loss: 0.3331 - accuracy: 0.8381 - recall_6: 0.7690 - precision_5: 0.7948\n",
            "Epoch 8/25\n",
            "23/23 [==============================] - 7s 306ms/step - loss: 0.3914 - accuracy: 0.8054 - recall_6: 0.7329 - precision_5: 0.7463\n",
            "Epoch 9/25\n",
            "23/23 [==============================] - 7s 307ms/step - loss: 0.3861 - accuracy: 0.8259 - recall_6: 0.7545 - precision_5: 0.7770\n",
            "Epoch 10/25\n",
            "23/23 [==============================] - 7s 305ms/step - loss: 0.3086 - accuracy: 0.8680 - recall_6: 0.8123 - precision_5: 0.8333\n",
            "Epoch 11/25\n",
            "23/23 [==============================] - 7s 304ms/step - loss: 0.2934 - accuracy: 0.8762 - recall_6: 0.8123 - precision_5: 0.8523\n",
            "Epoch 12/25\n",
            "23/23 [==============================] - 7s 305ms/step - loss: 0.2648 - accuracy: 0.8830 - recall_6: 0.8195 - precision_5: 0.8631\n",
            "Epoch 13/25\n",
            "23/23 [==============================] - 7s 303ms/step - loss: 0.2519 - accuracy: 0.9020 - recall_6: 0.8845 - precision_5: 0.8596\n",
            "Epoch 14/25\n",
            "23/23 [==============================] - 7s 306ms/step - loss: 0.2302 - accuracy: 0.9116 - recall_6: 0.8917 - precision_5: 0.8759\n",
            "Epoch 15/25\n",
            "23/23 [==============================] - 7s 305ms/step - loss: 0.2003 - accuracy: 0.9211 - recall_6: 0.8881 - precision_5: 0.9011\n",
            "Epoch 16/25\n",
            "23/23 [==============================] - 7s 304ms/step - loss: 0.2064 - accuracy: 0.9116 - recall_6: 0.8700 - precision_5: 0.8926\n",
            "Epoch 17/25\n",
            "23/23 [==============================] - 7s 306ms/step - loss: 0.2040 - accuracy: 0.9129 - recall_6: 0.8881 - precision_5: 0.8817\n",
            "Epoch 18/25\n",
            "23/23 [==============================] - 7s 314ms/step - loss: 0.2078 - accuracy: 0.9197 - recall_6: 0.8989 - precision_5: 0.8893\n",
            "Epoch 19/25\n",
            "23/23 [==============================] - 8s 338ms/step - loss: 0.1900 - accuracy: 0.9197 - recall_6: 0.8809 - precision_5: 0.9037\n",
            "Epoch 20/25\n",
            "23/23 [==============================] - 7s 304ms/step - loss: 0.1828 - accuracy: 0.9293 - recall_6: 0.9134 - precision_5: 0.9004\n",
            "Epoch 21/25\n",
            "23/23 [==============================] - 7s 304ms/step - loss: 0.1601 - accuracy: 0.9429 - recall_6: 0.9350 - precision_5: 0.9152\n",
            "Epoch 22/25\n",
            "23/23 [==============================] - 7s 306ms/step - loss: 0.1579 - accuracy: 0.9442 - recall_6: 0.9314 - precision_5: 0.9214\n",
            "Epoch 23/25\n",
            "23/23 [==============================] - 7s 306ms/step - loss: 0.1467 - accuracy: 0.9483 - recall_6: 0.9386 - precision_5: 0.9253\n",
            "Epoch 24/25\n",
            "23/23 [==============================] - 7s 306ms/step - loss: 0.1418 - accuracy: 0.9524 - recall_6: 0.9206 - precision_5: 0.9515\n",
            "Epoch 25/25\n",
            "23/23 [==============================] - 7s 307ms/step - loss: 0.1419 - accuracy: 0.9456 - recall_6: 0.9206 - precision_5: 0.9341\n",
            "10/10 [==============================] - 1s 77ms/step - loss: 6915.6748 - accuracy: 0.6076 - recall_6: 0.0388 - precision_5: 1.0000\n",
            "test loss, test acc: [6915.6748046875, 0.607594907283783, 0.03875968977808952, 1.0]\n"
          ],
          "name": "stdout"
        }
      ]
    },
    {
      "cell_type": "code",
      "metadata": {
        "id": "aAjpLpP9ev7w"
      },
      "source": [
        "predictions = model.predict(np.array(x_test).reshape(-1,100,100,1))\n",
        "print(predictions[:10])\n",
        "tf.math.confusion_matrix( np.array(y_test),predictions)"
      ],
      "execution_count": null,
      "outputs": []
    },
    {
      "cell_type": "code",
      "metadata": {
        "id": "HMXpgnXBgOND"
      },
      "source": [
        ""
      ],
      "execution_count": null,
      "outputs": []
    }
  ]
}